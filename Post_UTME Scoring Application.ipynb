{
 "cells": [
  {
   "cell_type": "markdown",
   "id": "c13319c2",
   "metadata": {},
   "source": [
    "# This is an app for determining prospective students' admission eligibility based on their O Level and UTME results"
   ]
  },
  {
   "cell_type": "code",
   "execution_count": 4,
   "id": "0bb12d8f",
   "metadata": {},
   "outputs": [
    {
     "name": "stdout",
     "output_type": "stream",
     "text": [
      "Enter your first grade here: A1\n",
      "Enter your second grade here: A1\n",
      "Enter your third grade here: A1\n",
      "Enter your fourth grade here: A1\n",
      "Enter your UTME score here: 400\n",
      "\n",
      "O Level Score: 111.00\n",
      "UTME Score: 280.00\n",
      "Final Score: 391.00\n"
     ]
    }
   ],
   "source": [
    "#I discovered that using a dictionary for this problem makes life a lot more easier.\n",
    "grades_dictionary = {\"A1\": 90, \"B2\": 80, \"B3\":70, \"C4\":  60, \"C5\":50, \"C6\":40, \"D7\":0, \"E8\":0, \"F9\":0}\n",
    "\n",
    "score_1 = input(\"Enter your first grade here: \")\n",
    "score_2 = input(\"Enter your second grade here: \")\n",
    "score_3 = input(\"Enter your third grade here: \")\n",
    "score_4 = input(\"Enter your fourth grade here: \")\n",
    "\n",
    "#These for_loops below checks the value entered by the user in each instance against the values of the dictionary\n",
    "for grade, score in grades_dictionary.items():\n",
    "    if grade == score_1:\n",
    "        score_1 = score\n",
    "        \n",
    "for grade, score in grades_dictionary.items():\n",
    "    if grade == score_2:\n",
    "        score_2 = score\n",
    "        \n",
    "for grade, score in grades_dictionary.items():\n",
    "    if grade == score_3:\n",
    "        score_3 = score\n",
    "        \n",
    "for grade, score in grades_dictionary.items():\n",
    "    if grade == score_4:\n",
    "        score_4 = score\n",
    "        \n",
    "#We then go on to add the user's total score\n",
    "\n",
    "o_level = score_1+score_2+score_3+score_4\n",
    "\n",
    "#Then we check whether the scores are greater than 50:\n",
    "\n",
    "if score_1 >= 50:\n",
    "    if score_3 >= 50:\n",
    "        if score_4 >= 50:\n",
    "            o_level = (o_level + 10) * 0.3 #Check that we have already assigned o_level a value above\n",
    "        else:\n",
    "            o_level = (o_level) * 0.3\n",
    "    else:\n",
    "        o_level = (o_level) * 0.3\n",
    "else:\n",
    "    o_level = (o_level) * 0.3\n",
    "    \n",
    "    \n",
    "#We can now ask for the candidate's UTME score\n",
    "\n",
    "utme_score = int(input(\"Enter your UTME score here: \"))\n",
    "\n",
    "f_utme_score = utme_score * 0.7\n",
    "\n",
    "final_score = f_utme_score + o_level\n",
    "\n",
    "#We can now display all the results of our calaculations\n",
    "\n",
    "print(f\"\\nO Level Score: {o_level:.2f}\\nUTME Score: {f_utme_score:.2f}\\nFinal Score: {final_score:.2f}\")\n",
    "\n",
    "#This approach would be a lot easier. Sorry I am introducing too many concepts we've not yet gotten to. The problem required\n",
    "#that we use that approach"
   ]
  },
  {
   "cell_type": "code",
   "execution_count": null,
   "id": "48026415",
   "metadata": {},
   "outputs": [],
   "source": []
  }
 ],
 "metadata": {
  "kernelspec": {
   "display_name": "Python 3",
   "language": "python",
   "name": "python3"
  },
  "language_info": {
   "codemirror_mode": {
    "name": "ipython",
    "version": 3
   },
   "file_extension": ".py",
   "mimetype": "text/x-python",
   "name": "python",
   "nbconvert_exporter": "python",
   "pygments_lexer": "ipython3",
   "version": "3.6.13"
  }
 },
 "nbformat": 4,
 "nbformat_minor": 5
}
